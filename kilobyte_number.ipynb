{
  "nbformat": 4,
  "nbformat_minor": 0,
  "metadata": {
    "colab": {
      "provenance": [],
      "authorship_tag": "ABX9TyOOoY/EnVAN77Iy436aSXOb"
    },
    "kernelspec": {
      "name": "python3",
      "display_name": "Python 3"
    },
    "language_info": {
      "name": "python"
    }
  },
  "cells": [
    {
      "cell_type": "markdown",
      "source": [
        "## What is the kilobyte number? "
      ],
      "metadata": {
        "id": "vYFTx5ZhVwFN"
      }
    },
    {
      "cell_type": "markdown",
      "source": [
        "Imports"
      ],
      "metadata": {
        "id": "oAY59JWIdUdl"
      }
    },
    {
      "cell_type": "code",
      "source": [
        "import re"
      ],
      "metadata": {
        "id": "Ukovp4oPgyd8"
      },
      "execution_count": null,
      "outputs": []
    },
    {
      "cell_type": "markdown",
      "source": [
        "Calculate how many bits there are in a kilobyte:"
      ],
      "metadata": {
        "id": "fmUZdibRbGKg"
      }
    },
    {
      "cell_type": "code",
      "source": [
        "kilobyte = 8 * 1024\n",
        "\n",
        "print(f'1 kilobyte = {kilobyte} bits')"
      ],
      "metadata": {
        "colab": {
          "base_uri": "https://localhost:8080/"
        },
        "id": "AFJkDbsGVtP7",
        "outputId": "fd2f24b1-38d0-4bef-86f5-11582b641fc6"
      },
      "execution_count": null,
      "outputs": [
        {
          "output_type": "stream",
          "name": "stdout",
          "text": [
            "1 kilobyte = 8192 bits\n"
          ]
        }
      ]
    },
    {
      "cell_type": "markdown",
      "source": [
        "Create a placeholder list for the binary values:"
      ],
      "metadata": {
        "id": "NtCwd09cavPG"
      }
    },
    {
      "cell_type": "code",
      "source": [
        "bin = [1]"
      ],
      "metadata": {
        "id": "IwlFPIXGaG2w"
      },
      "execution_count": null,
      "outputs": []
    },
    {
      "cell_type": "markdown",
      "source": [
        "Populate the list with the base 2 values:"
      ],
      "metadata": {
        "id": "FJneGHYabTFu"
      }
    },
    {
      "cell_type": "code",
      "source": [
        "while len(bin) < kilobyte:\n",
        "    bin.insert(0, bin[0]*2)\n",
        "\n",
        "# for n in bin:\n",
        "#     print(n)"
      ],
      "metadata": {
        "id": "yhvwMTwHYlCZ"
      },
      "execution_count": null,
      "outputs": []
    },
    {
      "cell_type": "markdown",
      "source": [
        "Sum the numbers in the list:"
      ],
      "metadata": {
        "id": "00ATi2cGcT9N"
      }
    },
    {
      "cell_type": "code",
      "source": [
        "kbnumber = sum(bin)\n",
        "\n",
        "print(re.sub(\"(.{64})\", \"\\\\1\\n\", str(kbnumber), 0, re.DOTALL))"
      ],
      "metadata": {
        "colab": {
          "base_uri": "https://localhost:8080/"
        },
        "id": "eTyh3ctAccQU",
        "outputId": "2debdb37-e6b3-4116-c29f-6a7b8ef4eb91"
      },
      "execution_count": null,
      "outputs": [
        {
          "output_type": "stream",
          "name": "stdout",
          "text": [
            "1090748135619415929462984244733782862448264161996232692431832786\n",
            "1897213318491192952162642345252019872239572917961570252731098708\n",
            "2017718406361097976507755479907890629884219298953860982522804820\n",
            "5159696851613591638196771886542609324560121290553901886301017900\n",
            "2525357999172000100796000265358368009052978058809523505016301954\n",
            "7565391100531236456001484742603529355124584392891875276869627934\n",
            "4088055617515694349945406677825140814900616105920256438504578013\n",
            "3264935658360472424073824428122451315177575191648992263657437224\n",
            "3227736807502762788304520650179276170094569916849725787968385173\n",
            "7049996900961120515655050115561271491492515342105748966629547032\n",
            "7863215057308284302216649703243961386352516264095161680054276234\n",
            "3599630892169144618118740639531066540488573943483287742816740749\n",
            "5370993511868756359970390117021823616749458620969857006263612082\n",
            "7067154081570665751372810270223109275649102767591605208783046324\n",
            "1104936456875492096732298245918476342738379027244843801852697776\n",
            "4941072715611580434690827459339991961414242741410599117426060556\n",
            "4837637563145276113626586283833686211579936380208785376755453367\n",
            "8991569423443395566631507008721353547025567031200413072549583450\n",
            "8357439653828936077080978550578912967907352780054935621561090795\n",
            "8451729541159729274798775277385600082041185589300047777487277618\n",
            "5381351049384058186159865221160596030835640594182118971403786872\n",
            "6219481498727603653616298856174822413033485438785324024751419417\n",
            "1830122810782097293035373728045743720952287036227763639452908698\n",
            "0625842235514850757103961938744962986680818876966281577815307939\n",
            "3179093143648340761738581819563002994422790754955061288818308430\n",
            "0796486932321791587659180355652161571154029921202761556078731079\n",
            "3747746684152836298770869945015203123186259420308569383894465706\n",
            "1346236704234026821102958954951197087076546186622796294536451620\n",
            "7565093510189060237738215395327762086769785897319663303088933046\n",
            "6516943618507835064156833694453005143749131129883436726523859540\n",
            "4904273455928723949525227184617404367854754610474377019768025576\n",
            "6058810380772707077179422219770903854385858440954921160998525389\n",
            "0397465570394397308609093059696336076752996493841459818570596375\n",
            "4561497355827813623833288906309004288017321424808663962671333528\n",
            "0092327583508730596141187237814221014601986157473868550968960891\n",
            "8918044133955852482286754111321263879367556765034036297003193002\n",
            "3397828465318547238244232028015189689660418822976000815437610652\n",
            "2542701635956508754338511471232142272666054035817814690908065764\n",
            "68950587661997186505665475715792895\n"
          ]
        }
      ]
    },
    {
      "cell_type": "markdown",
      "source": [
        "Check the length of the number "
      ],
      "metadata": {
        "id": "_29xm5rkcktQ"
      }
    },
    {
      "cell_type": "code",
      "source": [
        "print(f'The kilobyte number is {len(str(kbnumber))} digits long')"
      ],
      "metadata": {
        "colab": {
          "base_uri": "https://localhost:8080/"
        },
        "id": "kKcoUqrMcp26",
        "outputId": "da383a70-9805-4ce0-d6d9-a138d623455c"
      },
      "execution_count": null,
      "outputs": [
        {
          "output_type": "stream",
          "name": "stdout",
          "text": [
            "The kilobyte number is 2467 digits long\n"
          ]
        }
      ]
    },
    {
      "cell_type": "markdown",
      "source": [
        "\n",
        "\n",
        "---\n",
        "\n",
        "\n",
        "That's approximately a 1 followed by 2466 zeroes or somewhere between an octingentillion and a nongentillion.\n",
        "\n",
        "*A googol by comparison is a 1 followed by 100 zeroes.*"
      ],
      "metadata": {
        "id": "TIJFAQzVfKqK"
      }
    }
  ]
}